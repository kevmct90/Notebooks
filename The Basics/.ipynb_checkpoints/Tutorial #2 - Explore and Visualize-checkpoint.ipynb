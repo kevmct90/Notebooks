{
 "cells": [
  {
   "cell_type": "markdown",
   "metadata": {},
   "source": [
    "# Tutorial #2 - Explore and Visualize\n",
    "This notebook is the **second** in a series of \"getting started\" tutorials that is designed to introduce some basic concepts and help get you familiar with using the workbench.  \n",
    "\n",
    "In this notebook, we will explore and visualize the olympic medals data that you added to your workbench in **Tutorial #1 - Get Data**. Specifically, this tutorial covers:\n",
    "\n",
    "1. Load data in memory using a `pandas` DataFrame\n",
    "1. Explore and manipulate data using DataFrame functions\n",
    "1. Group data by columns \n",
    "1. Calculate statistics over grouped data\n",
    "1. Plot data using the pre-installed `matplotlib` package\n",
    "1. Plot data using a third-party library\n",
    "\n",
    "We will do this in the context of answering the following questions:\n",
    "\n",
    "1. Which discipline and event has awarded the most gold medals?\n",
    "1. Which country has won the most gold, silver, and bronze medals?\n",
    "\n",
    "## Pre-requisites\n",
    "* A basic familiarity with the [Python Programming Language](https://docs.python.org/3/) and the [IPython Notebook](http://nbviewer.ipython.org/github/ipython/ipython/blob/2.x/examples/Notebook/Index.ipynb).\n",
    "* A basic understanding of [common graphical techniques](http://en.wikipedia.org/wiki/Exploratory_data_analysis#Techniques) used for exploratory data analysis. \n",
    "* A basic understanding of [`matplotlib`](http://matplotlib.org)\n",
    "\n",
    "## Load Data\n",
    "Our first step is to load the olympic medal data into a pandas [DataFrame](http://pandas.pydata.org/pandas-docs/dev/dsintro.html#dataframe) in memory.  As demonstrated in **Tutorial #1 - Get Data**, we can do this by \n",
    "following steps:\n",
    "\n",
    "1. Download the olympic medal data in CSV format.  Click this [Google Spreadsheet link](https://docs.google.com/spreadsheet/ccc?key=0AgdO92JOXxAOdDVlaUpkNlB2WERtV3l1ZVFYbzllQWc#gid=1) to open the document in a new browser window. \n",
    "1. Save the CSV file to your computer.  Choose *File > Download as... > Comma-separated Values*.\n",
    "1. Drag the CSV file from your desktop onto the workbench (Note that the CSV file appears under your **Recent Data** panel in the sidebar.)\n",
    "1. Click the arrow button (**>**) next to the CSV file you just uploaded.\n",
    "1. In the section that appears below the item, click \"Rename\"\n",
    "1. Change the name of the file to \"medals.csv\" and press Enter or click outside the name.\n",
    "1. Execute the code cell by clicking the (**&#9658;**) play button on the notebook toolbar, or by pressing Ctrl-Enter."
   ]
  },
  {
   "cell_type": "code",
   "execution_count": 2,
   "metadata": {
    "collapsed": true
   },
   "outputs": [],
   "source": [
    "import pandas\n",
    "medals_df = pandas.read_csv('medals.csv')\n",
    "# Prune non-data rows\n",
    "medals_df = medals_df.dropna()"
   ]
  },
  {
   "cell_type": "markdown",
   "metadata": {},
   "source": [
    "## Explore\n",
    "So what does the olympic medal data look like? We can peek at the data and its structure by looking at the first few rows.  The DataFrame's `head()` method exists for this purpose."
   ]
  },
  {
   "cell_type": "code",
   "execution_count": 3,
   "metadata": {
    "collapsed": false
   },
   "outputs": [
    {
     "data": {
      "text/html": [
       "<div>\n",
       "<table border=\"1\" class=\"dataframe\">\n",
       "  <thead>\n",
       "    <tr style=\"text-align: right;\">\n",
       "      <th></th>\n",
       "      <th>Year</th>\n",
       "      <th>City</th>\n",
       "      <th>Sport</th>\n",
       "      <th>Discipline</th>\n",
       "      <th>NOC</th>\n",
       "      <th>Event</th>\n",
       "      <th>Event gender</th>\n",
       "      <th>Medal</th>\n",
       "    </tr>\n",
       "  </thead>\n",
       "  <tbody>\n",
       "    <tr>\n",
       "      <th>0</th>\n",
       "      <td>1924</td>\n",
       "      <td>Chamonix</td>\n",
       "      <td>Skating</td>\n",
       "      <td>Figure skating</td>\n",
       "      <td>AUT</td>\n",
       "      <td>individual</td>\n",
       "      <td>M</td>\n",
       "      <td>Silver</td>\n",
       "    </tr>\n",
       "    <tr>\n",
       "      <th>1</th>\n",
       "      <td>1924</td>\n",
       "      <td>Chamonix</td>\n",
       "      <td>Skating</td>\n",
       "      <td>Figure skating</td>\n",
       "      <td>AUT</td>\n",
       "      <td>individual</td>\n",
       "      <td>W</td>\n",
       "      <td>Gold</td>\n",
       "    </tr>\n",
       "    <tr>\n",
       "      <th>2</th>\n",
       "      <td>1924</td>\n",
       "      <td>Chamonix</td>\n",
       "      <td>Skating</td>\n",
       "      <td>Figure skating</td>\n",
       "      <td>AUT</td>\n",
       "      <td>pairs</td>\n",
       "      <td>X</td>\n",
       "      <td>Gold</td>\n",
       "    </tr>\n",
       "    <tr>\n",
       "      <th>3</th>\n",
       "      <td>1924</td>\n",
       "      <td>Chamonix</td>\n",
       "      <td>Bobsleigh</td>\n",
       "      <td>Bobsleigh</td>\n",
       "      <td>BEL</td>\n",
       "      <td>four-man</td>\n",
       "      <td>M</td>\n",
       "      <td>Bronze</td>\n",
       "    </tr>\n",
       "    <tr>\n",
       "      <th>4</th>\n",
       "      <td>1924</td>\n",
       "      <td>Chamonix</td>\n",
       "      <td>Ice Hockey</td>\n",
       "      <td>Ice Hockey</td>\n",
       "      <td>CAN</td>\n",
       "      <td>ice hockey</td>\n",
       "      <td>M</td>\n",
       "      <td>Gold</td>\n",
       "    </tr>\n",
       "  </tbody>\n",
       "</table>\n",
       "</div>"
      ],
      "text/plain": [
       "   Year      City       Sport      Discipline  NOC       Event Event gender  \\\n",
       "0  1924  Chamonix     Skating  Figure skating  AUT  individual            M   \n",
       "1  1924  Chamonix     Skating  Figure skating  AUT  individual            W   \n",
       "2  1924  Chamonix     Skating  Figure skating  AUT       pairs            X   \n",
       "3  1924  Chamonix   Bobsleigh       Bobsleigh  BEL    four-man            M   \n",
       "4  1924  Chamonix  Ice Hockey      Ice Hockey  CAN  ice hockey            M   \n",
       "\n",
       "    Medal  \n",
       "0  Silver  \n",
       "1    Gold  \n",
       "2    Gold  \n",
       "3  Bronze  \n",
       "4    Gold  "
      ]
     },
     "execution_count": 3,
     "metadata": {},
     "output_type": "execute_result"
    }
   ],
   "source": [
    "medals_df.head()"
   ]
  },
  {
   "cell_type": "markdown",
   "metadata": {},
   "source": [
    "Each row provides:\n",
    "\n",
    "* The year the medal was awarded\n",
    "* The city where the games took place\n",
    "* The sport and discipline\n",
    "* The specific event\n",
    "* The nationality of the medal winner \n",
    "* The gender of the medal winner\n",
    "* The type of medal\n",
    "\n",
    "A first logical question might be, for what time period does the data apply?  To find out, we turn our attention to the 'Year' column, which we can access directly from the DataFrame object.  We can invoke the built-in `min()` and `max()` functions on the column (which is a pandas [Series](http://pandas.pydata.org/pandas-docs/dev/dsintro.html#series))."
   ]
  },
  {
   "cell_type": "code",
   "execution_count": 4,
   "metadata": {
    "collapsed": false
   },
   "outputs": [
    {
     "data": {
      "text/plain": [
       "('1924', '2006')"
      ]
     },
     "execution_count": 4,
     "metadata": {},
     "output_type": "execute_result"
    }
   ],
   "source": [
    "medals_df.Year.min(), medals_df.Year.max()"
   ]
  },
  {
   "cell_type": "markdown",
   "metadata": {},
   "source": [
    "To be more precise, we can list all years for which we have medal data."
   ]
  },
  {
   "cell_type": "code",
   "execution_count": 10,
   "metadata": {
    "collapsed": false
   },
   "outputs": [
    {
     "data": {
      "text/plain": [
       "array(['1924', '1928', '1932', '1936', '1948', '1952', '1956', '1960',\n",
       "       '1964', '1968', '1972', '1976', '1980', '1984', '1988', '1992',\n",
       "       '1994', '1998', '2002', '2006'], dtype=object)"
      ]
     },
     "execution_count": 10,
     "metadata": {},
     "output_type": "execute_result"
    }
   ],
   "source": [
    "medals_df.Year.unique()"
   ]
  },
  {
   "cell_type": "markdown",
   "metadata": {},
   "source": [
    "OK. So it looks like we have medal data for all winter olympics from 1924 through 2006.\n",
    "Next question: How many medals have been awarded? The easiest way to find out is to count the rows using Python's built-in len() function, which returns the number of rows."
   ]
  },
  {
   "cell_type": "code",
   "execution_count": 11,
   "metadata": {
    "collapsed": false
   },
   "outputs": [
    {
     "data": {
      "text/plain": [
       "2311"
      ]
     },
     "execution_count": 11,
     "metadata": {},
     "output_type": "execute_result"
    }
   ],
   "source": [
    "len(medals_df)"
   ]
  },
  {
   "cell_type": "markdown",
   "metadata": {},
   "source": [
    "How about a sanity check? What are the distinct medal colors for all medals awarded? And how many of each color were awarded? We can answer these questions without much effort. Here we access the DataFrame's Medal column and invoke built-in functions on the resulting Series."
   ]
  },
  {
   "cell_type": "code",
   "execution_count": 12,
   "metadata": {
    "collapsed": false
   },
   "outputs": [
    {
     "data": {
      "text/plain": [
       "array(['Silver', 'Gold', 'Bronze'], dtype=object)"
      ]
     },
     "execution_count": 12,
     "metadata": {},
     "output_type": "execute_result"
    }
   ],
   "source": [
    "medals_df.Medal.unique()"
   ]
  },
  {
   "cell_type": "code",
   "execution_count": 13,
   "metadata": {
    "collapsed": false
   },
   "outputs": [
    {
     "data": {
      "text/plain": [
       "Gold      774\n",
       "Silver    773\n",
       "Bronze    764\n",
       "Name: Medal, dtype: int64"
      ]
     },
     "execution_count": 13,
     "metadata": {},
     "output_type": "execute_result"
    }
   ],
   "source": [
    "medals_df.Medal.value_counts()"
   ]
  },
  {
   "cell_type": "markdown",
   "metadata": {},
   "source": [
    "Well, these results make sense.  \n",
    "\n",
    "Let us now list all the winter olympic sports and disciplines that have awarded medals.  To do this, we first use the DataFrame [`grouby()`](http://pandas.pydata.org/pandas-docs/stable/groupby.html) function to group all medal data by sport and discipline.  We then list the keys used to identify each group."
   ]
  },
  {
   "cell_type": "code",
   "execution_count": 14,
   "metadata": {
    "collapsed": false
   },
   "outputs": [
    {
     "data": {
      "text/plain": [
       "[('Skiing', 'Snowboard'),\n",
       " ('Curling', 'Curling'),\n",
       " ('Skiing', 'Cross Country S'),\n",
       " ('Skating', 'Short Track S.'),\n",
       " ('Bobsleigh', 'Skeleton'),\n",
       " ('Bobsleigh', 'Bobsleigh'),\n",
       " ('Skiing', 'Nordic Combined'),\n",
       " ('Skating', 'Speed skating'),\n",
       " ('Skiing', 'Ski Jumping'),\n",
       " ('Skiing', 'Alpine Skiing'),\n",
       " ('Ice Hockey', 'Ice Hockey'),\n",
       " ('Skating', 'Figure skating'),\n",
       " ('Biathlon', 'Biathlon'),\n",
       " ('Skiing', 'Freestyle Ski.'),\n",
       " ('Luge', 'Luge')]"
      ]
     },
     "execution_count": 14,
     "metadata": {},
     "output_type": "execute_result"
    }
   ],
   "source": [
    "disciplines = medals_df.groupby(['Sport','Discipline'])\n",
    "disciplines.groups.keys()"
   ]
  },
  {
   "cell_type": "markdown",
   "metadata": {},
   "source": [
    "## Question 1: Which discipline and event has awarded the most gold medals?\n",
    "The first step we must take to answer this question is to filter our data.  We want to ensure we only consider gold medals.  We can apply a filter to our DataFrame by selecting records using a boolean indicator.  We store the result in a new DataFrame."
   ]
  },
  {
   "cell_type": "code",
   "execution_count": 16,
   "metadata": {
    "collapsed": true
   },
   "outputs": [],
   "source": [
    "gold_df = medals_df[medals_df.Medal == 'Gold']"
   ]
  },
  {
   "cell_type": "markdown",
   "metadata": {},
   "source": [
    "Next, we want to group the gold medals by the Discipline and Event columns. The result gives us the gold medals awarded by event."
   ]
  },
  {
   "cell_type": "code",
   "execution_count": 17,
   "metadata": {
    "collapsed": true
   },
   "outputs": [],
   "source": [
    "by_event = gold_df.groupby(['Discipline','Event'])"
   ]
  },
  {
   "cell_type": "markdown",
   "metadata": {},
   "source": [
    "We can get a glimpse of the grouped data using the DataFrame head() function."
   ]
  },
  {
   "cell_type": "code",
   "execution_count": 18,
   "metadata": {
    "collapsed": false
   },
   "outputs": [
    {
     "data": {
      "text/html": [
       "<div>\n",
       "<table border=\"1\" class=\"dataframe\">\n",
       "  <thead>\n",
       "    <tr style=\"text-align: right;\">\n",
       "      <th></th>\n",
       "      <th>Year</th>\n",
       "      <th>City</th>\n",
       "      <th>Sport</th>\n",
       "      <th>Discipline</th>\n",
       "      <th>NOC</th>\n",
       "      <th>Event</th>\n",
       "      <th>Event gender</th>\n",
       "      <th>Medal</th>\n",
       "    </tr>\n",
       "  </thead>\n",
       "  <tbody>\n",
       "    <tr>\n",
       "      <th>1</th>\n",
       "      <td>1924</td>\n",
       "      <td>Chamonix</td>\n",
       "      <td>Skating</td>\n",
       "      <td>Figure skating</td>\n",
       "      <td>AUT</td>\n",
       "      <td>individual</td>\n",
       "      <td>W</td>\n",
       "      <td>Gold</td>\n",
       "    </tr>\n",
       "    <tr>\n",
       "      <th>2</th>\n",
       "      <td>1924</td>\n",
       "      <td>Chamonix</td>\n",
       "      <td>Skating</td>\n",
       "      <td>Figure skating</td>\n",
       "      <td>AUT</td>\n",
       "      <td>pairs</td>\n",
       "      <td>X</td>\n",
       "      <td>Gold</td>\n",
       "    </tr>\n",
       "    <tr>\n",
       "      <th>4</th>\n",
       "      <td>1924</td>\n",
       "      <td>Chamonix</td>\n",
       "      <td>Ice Hockey</td>\n",
       "      <td>Ice Hockey</td>\n",
       "      <td>CAN</td>\n",
       "      <td>ice hockey</td>\n",
       "      <td>M</td>\n",
       "      <td>Gold</td>\n",
       "    </tr>\n",
       "    <tr>\n",
       "      <th>7</th>\n",
       "      <td>1924</td>\n",
       "      <td>Chamonix</td>\n",
       "      <td>Skating</td>\n",
       "      <td>Speed skating</td>\n",
       "      <td>FIN</td>\n",
       "      <td>10000m</td>\n",
       "      <td>M</td>\n",
       "      <td>Gold</td>\n",
       "    </tr>\n",
       "    <tr>\n",
       "      <th>9</th>\n",
       "      <td>1924</td>\n",
       "      <td>Chamonix</td>\n",
       "      <td>Skating</td>\n",
       "      <td>Speed skating</td>\n",
       "      <td>FIN</td>\n",
       "      <td>1500m</td>\n",
       "      <td>M</td>\n",
       "      <td>Gold</td>\n",
       "    </tr>\n",
       "    <tr>\n",
       "      <th>10</th>\n",
       "      <td>1924</td>\n",
       "      <td>Chamonix</td>\n",
       "      <td>Skating</td>\n",
       "      <td>Speed skating</td>\n",
       "      <td>FIN</td>\n",
       "      <td>5000m</td>\n",
       "      <td>M</td>\n",
       "      <td>Gold</td>\n",
       "    </tr>\n",
       "    <tr>\n",
       "      <th>14</th>\n",
       "      <td>1924</td>\n",
       "      <td>Chamonix</td>\n",
       "      <td>Skating</td>\n",
       "      <td>Speed skating</td>\n",
       "      <td>FIN</td>\n",
       "      <td>combined (4 events)</td>\n",
       "      <td>M</td>\n",
       "      <td>Gold</td>\n",
       "    </tr>\n",
       "    <tr>\n",
       "      <th>20</th>\n",
       "      <td>1924</td>\n",
       "      <td>Chamonix</td>\n",
       "      <td>Curling</td>\n",
       "      <td>Curling</td>\n",
       "      <td>GBR</td>\n",
       "      <td>curling</td>\n",
       "      <td>M</td>\n",
       "      <td>Gold</td>\n",
       "    </tr>\n",
       "    <tr>\n",
       "      <th>30</th>\n",
       "      <td>1924</td>\n",
       "      <td>Chamonix</td>\n",
       "      <td>Skiing</td>\n",
       "      <td>Cross Country S</td>\n",
       "      <td>NOR</td>\n",
       "      <td>18km</td>\n",
       "      <td>M</td>\n",
       "      <td>Gold</td>\n",
       "    </tr>\n",
       "    <tr>\n",
       "      <th>33</th>\n",
       "      <td>1924</td>\n",
       "      <td>Chamonix</td>\n",
       "      <td>Skiing</td>\n",
       "      <td>Cross Country S</td>\n",
       "      <td>NOR</td>\n",
       "      <td>50km</td>\n",
       "      <td>M</td>\n",
       "      <td>Gold</td>\n",
       "    </tr>\n",
       "    <tr>\n",
       "      <th>36</th>\n",
       "      <td>1924</td>\n",
       "      <td>Chamonix</td>\n",
       "      <td>Skiing</td>\n",
       "      <td>Nordic Combined</td>\n",
       "      <td>NOR</td>\n",
       "      <td>individual</td>\n",
       "      <td>M</td>\n",
       "      <td>Gold</td>\n",
       "    </tr>\n",
       "    <tr>\n",
       "      <th>38</th>\n",
       "      <td>1924</td>\n",
       "      <td>Chamonix</td>\n",
       "      <td>Skiing</td>\n",
       "      <td>Ski Jumping</td>\n",
       "      <td>NOR</td>\n",
       "      <td>K90 individual (70m)</td>\n",
       "      <td>M</td>\n",
       "      <td>Gold</td>\n",
       "    </tr>\n",
       "    <tr>\n",
       "      <th>40</th>\n",
       "      <td>1924</td>\n",
       "      <td>Chamonix</td>\n",
       "      <td>Biathlon</td>\n",
       "      <td>Biathlon</td>\n",
       "      <td>SUI</td>\n",
       "      <td>military patrol</td>\n",
       "      <td>M</td>\n",
       "      <td>Gold</td>\n",
       "    </tr>\n",
       "    <tr>\n",
       "      <th>41</th>\n",
       "      <td>1924</td>\n",
       "      <td>Chamonix</td>\n",
       "      <td>Bobsleigh</td>\n",
       "      <td>Bobsleigh</td>\n",
       "      <td>SUI</td>\n",
       "      <td>four-man</td>\n",
       "      <td>M</td>\n",
       "      <td>Gold</td>\n",
       "    </tr>\n",
       "    <tr>\n",
       "      <th>44</th>\n",
       "      <td>1924</td>\n",
       "      <td>Chamonix</td>\n",
       "      <td>Skating</td>\n",
       "      <td>Figure skating</td>\n",
       "      <td>SWE</td>\n",
       "      <td>individual</td>\n",
       "      <td>M</td>\n",
       "      <td>Gold</td>\n",
       "    </tr>\n",
       "    <tr>\n",
       "      <th>47</th>\n",
       "      <td>1924</td>\n",
       "      <td>Chamonix</td>\n",
       "      <td>Skating</td>\n",
       "      <td>Speed skating</td>\n",
       "      <td>USA</td>\n",
       "      <td>500m</td>\n",
       "      <td>M</td>\n",
       "      <td>Gold</td>\n",
       "    </tr>\n",
       "    <tr>\n",
       "      <th>54</th>\n",
       "      <td>1928</td>\n",
       "      <td>St. Moritz</td>\n",
       "      <td>Ice Hockey</td>\n",
       "      <td>Ice Hockey</td>\n",
       "      <td>CAN</td>\n",
       "      <td>ice hockey</td>\n",
       "      <td>M</td>\n",
       "      <td>Gold</td>\n",
       "    </tr>\n",
       "    <tr>\n",
       "      <th>55</th>\n",
       "      <td>1928</td>\n",
       "      <td>St. Moritz</td>\n",
       "      <td>Skating</td>\n",
       "      <td>Speed skating</td>\n",
       "      <td>FIN</td>\n",
       "      <td>1500m</td>\n",
       "      <td>M</td>\n",
       "      <td>Gold</td>\n",
       "    </tr>\n",
       "    <tr>\n",
       "      <th>58</th>\n",
       "      <td>1928</td>\n",
       "      <td>St. Moritz</td>\n",
       "      <td>Skating</td>\n",
       "      <td>Speed skating</td>\n",
       "      <td>FIN</td>\n",
       "      <td>500m</td>\n",
       "      <td>M</td>\n",
       "      <td>Gold</td>\n",
       "    </tr>\n",
       "    <tr>\n",
       "      <th>59</th>\n",
       "      <td>1928</td>\n",
       "      <td>St. Moritz</td>\n",
       "      <td>Skating</td>\n",
       "      <td>Figure skating</td>\n",
       "      <td>FRA</td>\n",
       "      <td>pairs</td>\n",
       "      <td>X</td>\n",
       "      <td>Gold</td>\n",
       "    </tr>\n",
       "    <tr>\n",
       "      <th>62</th>\n",
       "      <td>1928</td>\n",
       "      <td>St. Moritz</td>\n",
       "      <td>Skating</td>\n",
       "      <td>Figure skating</td>\n",
       "      <td>NOR</td>\n",
       "      <td>individual</td>\n",
       "      <td>W</td>\n",
       "      <td>Gold</td>\n",
       "    </tr>\n",
       "    <tr>\n",
       "      <th>66</th>\n",
       "      <td>1928</td>\n",
       "      <td>St. Moritz</td>\n",
       "      <td>Skating</td>\n",
       "      <td>Speed skating</td>\n",
       "      <td>NOR</td>\n",
       "      <td>5000m</td>\n",
       "      <td>M</td>\n",
       "      <td>Gold</td>\n",
       "    </tr>\n",
       "    <tr>\n",
       "      <th>68</th>\n",
       "      <td>1928</td>\n",
       "      <td>St. Moritz</td>\n",
       "      <td>Skating</td>\n",
       "      <td>Speed skating</td>\n",
       "      <td>NOR</td>\n",
       "      <td>500m</td>\n",
       "      <td>M</td>\n",
       "      <td>Gold</td>\n",
       "    </tr>\n",
       "    <tr>\n",
       "      <th>70</th>\n",
       "      <td>1928</td>\n",
       "      <td>St. Moritz</td>\n",
       "      <td>Skiing</td>\n",
       "      <td>Cross Country S</td>\n",
       "      <td>NOR</td>\n",
       "      <td>18km</td>\n",
       "      <td>M</td>\n",
       "      <td>Gold</td>\n",
       "    </tr>\n",
       "    <tr>\n",
       "      <th>73</th>\n",
       "      <td>1928</td>\n",
       "      <td>St. Moritz</td>\n",
       "      <td>Skiing</td>\n",
       "      <td>Nordic Combined</td>\n",
       "      <td>NOR</td>\n",
       "      <td>individual</td>\n",
       "      <td>M</td>\n",
       "      <td>Gold</td>\n",
       "    </tr>\n",
       "    <tr>\n",
       "      <th>75</th>\n",
       "      <td>1928</td>\n",
       "      <td>St. Moritz</td>\n",
       "      <td>Skiing</td>\n",
       "      <td>Ski Jumping</td>\n",
       "      <td>NOR</td>\n",
       "      <td>K90 individual (70m)</td>\n",
       "      <td>M</td>\n",
       "      <td>Gold</td>\n",
       "    </tr>\n",
       "    <tr>\n",
       "      <th>79</th>\n",
       "      <td>1928</td>\n",
       "      <td>St. Moritz</td>\n",
       "      <td>Skating</td>\n",
       "      <td>Figure skating</td>\n",
       "      <td>SWE</td>\n",
       "      <td>individual</td>\n",
       "      <td>M</td>\n",
       "      <td>Gold</td>\n",
       "    </tr>\n",
       "    <tr>\n",
       "      <th>81</th>\n",
       "      <td>1928</td>\n",
       "      <td>St. Moritz</td>\n",
       "      <td>Skiing</td>\n",
       "      <td>Cross Country S</td>\n",
       "      <td>SWE</td>\n",
       "      <td>50km</td>\n",
       "      <td>M</td>\n",
       "      <td>Gold</td>\n",
       "    </tr>\n",
       "    <tr>\n",
       "      <th>84</th>\n",
       "      <td>1928</td>\n",
       "      <td>St. Moritz</td>\n",
       "      <td>Bobsleigh</td>\n",
       "      <td>Bobsleigh</td>\n",
       "      <td>USA</td>\n",
       "      <td>five-man</td>\n",
       "      <td>M</td>\n",
       "      <td>Gold</td>\n",
       "    </tr>\n",
       "    <tr>\n",
       "      <th>86</th>\n",
       "      <td>1928</td>\n",
       "      <td>St. Moritz</td>\n",
       "      <td>Bobsleigh</td>\n",
       "      <td>Skeleton</td>\n",
       "      <td>USA</td>\n",
       "      <td>individual</td>\n",
       "      <td>M</td>\n",
       "      <td>Gold</td>\n",
       "    </tr>\n",
       "    <tr>\n",
       "      <th>...</th>\n",
       "      <td>...</td>\n",
       "      <td>...</td>\n",
       "      <td>...</td>\n",
       "      <td>...</td>\n",
       "      <td>...</td>\n",
       "      <td>...</td>\n",
       "      <td>...</td>\n",
       "      <td>...</td>\n",
       "    </tr>\n",
       "    <tr>\n",
       "      <th>2078</th>\n",
       "      <td>2006</td>\n",
       "      <td>Turin</td>\n",
       "      <td>Skiing</td>\n",
       "      <td>Nordic Combined</td>\n",
       "      <td>AUT</td>\n",
       "      <td>Individual sprint</td>\n",
       "      <td>M</td>\n",
       "      <td>Gold</td>\n",
       "    </tr>\n",
       "    <tr>\n",
       "      <th>2087</th>\n",
       "      <td>2006</td>\n",
       "      <td>Turin</td>\n",
       "      <td>Bobsleigh</td>\n",
       "      <td>Skeleton</td>\n",
       "      <td>CAN</td>\n",
       "      <td>individual</td>\n",
       "      <td>M</td>\n",
       "      <td>Gold</td>\n",
       "    </tr>\n",
       "    <tr>\n",
       "      <th>2106</th>\n",
       "      <td>2006</td>\n",
       "      <td>Turin</td>\n",
       "      <td>Skiing</td>\n",
       "      <td>Cross Country S</td>\n",
       "      <td>CAN</td>\n",
       "      <td>sprint 1.5km</td>\n",
       "      <td>W</td>\n",
       "      <td>Gold</td>\n",
       "    </tr>\n",
       "    <tr>\n",
       "      <th>2122</th>\n",
       "      <td>2006</td>\n",
       "      <td>Turin</td>\n",
       "      <td>Skiing</td>\n",
       "      <td>Alpine Skiing</td>\n",
       "      <td>CRO</td>\n",
       "      <td>Alpine combined</td>\n",
       "      <td>W</td>\n",
       "      <td>Gold</td>\n",
       "    </tr>\n",
       "    <tr>\n",
       "      <th>2126</th>\n",
       "      <td>2006</td>\n",
       "      <td>Turin</td>\n",
       "      <td>Skiing</td>\n",
       "      <td>Cross Country S</td>\n",
       "      <td>CZE</td>\n",
       "      <td>30km</td>\n",
       "      <td>W</td>\n",
       "      <td>Gold</td>\n",
       "    </tr>\n",
       "    <tr>\n",
       "      <th>2130</th>\n",
       "      <td>2006</td>\n",
       "      <td>Turin</td>\n",
       "      <td>Skiing</td>\n",
       "      <td>Cross Country S</td>\n",
       "      <td>EST</td>\n",
       "      <td>Combined 7.5 + 7.5km mass start</td>\n",
       "      <td>W</td>\n",
       "      <td>Gold</td>\n",
       "    </tr>\n",
       "    <tr>\n",
       "      <th>2140</th>\n",
       "      <td>2006</td>\n",
       "      <td>Turin</td>\n",
       "      <td>Biathlon</td>\n",
       "      <td>Biathlon</td>\n",
       "      <td>FRA</td>\n",
       "      <td>12.5km pursuit</td>\n",
       "      <td>M</td>\n",
       "      <td>Gold</td>\n",
       "    </tr>\n",
       "    <tr>\n",
       "      <th>2143</th>\n",
       "      <td>2006</td>\n",
       "      <td>Turin</td>\n",
       "      <td>Biathlon</td>\n",
       "      <td>Biathlon</td>\n",
       "      <td>FRA</td>\n",
       "      <td>7.5km</td>\n",
       "      <td>W</td>\n",
       "      <td>Gold</td>\n",
       "    </tr>\n",
       "    <tr>\n",
       "      <th>2151</th>\n",
       "      <td>2006</td>\n",
       "      <td>Turin</td>\n",
       "      <td>Biathlon</td>\n",
       "      <td>Biathlon</td>\n",
       "      <td>GER</td>\n",
       "      <td>10km pursuit</td>\n",
       "      <td>W</td>\n",
       "      <td>Gold</td>\n",
       "    </tr>\n",
       "    <tr>\n",
       "      <th>2157</th>\n",
       "      <td>2006</td>\n",
       "      <td>Turin</td>\n",
       "      <td>Biathlon</td>\n",
       "      <td>Biathlon</td>\n",
       "      <td>GER</td>\n",
       "      <td>15km mass start</td>\n",
       "      <td>M</td>\n",
       "      <td>Gold</td>\n",
       "    </tr>\n",
       "    <tr>\n",
       "      <th>2170</th>\n",
       "      <td>2006</td>\n",
       "      <td>Turin</td>\n",
       "      <td>Skating</td>\n",
       "      <td>Speed skating</td>\n",
       "      <td>GER</td>\n",
       "      <td>Team pursuit</td>\n",
       "      <td>W</td>\n",
       "      <td>Gold</td>\n",
       "    </tr>\n",
       "    <tr>\n",
       "      <th>2175</th>\n",
       "      <td>2006</td>\n",
       "      <td>Turin</td>\n",
       "      <td>Skiing</td>\n",
       "      <td>Nordic Combined</td>\n",
       "      <td>GER</td>\n",
       "      <td>Individual</td>\n",
       "      <td>M</td>\n",
       "      <td>Gold</td>\n",
       "    </tr>\n",
       "    <tr>\n",
       "      <th>2185</th>\n",
       "      <td>2006</td>\n",
       "      <td>Turin</td>\n",
       "      <td>Skating</td>\n",
       "      <td>Speed skating</td>\n",
       "      <td>ITA</td>\n",
       "      <td>Team pursuit</td>\n",
       "      <td>M</td>\n",
       "      <td>Gold</td>\n",
       "    </tr>\n",
       "    <tr>\n",
       "      <th>2194</th>\n",
       "      <td>2006</td>\n",
       "      <td>Turin</td>\n",
       "      <td>Skating</td>\n",
       "      <td>Short Track S.</td>\n",
       "      <td>KOR</td>\n",
       "      <td>1500m</td>\n",
       "      <td>M</td>\n",
       "      <td>Gold</td>\n",
       "    </tr>\n",
       "    <tr>\n",
       "      <th>2196</th>\n",
       "      <td>2006</td>\n",
       "      <td>Turin</td>\n",
       "      <td>Skating</td>\n",
       "      <td>Short Track S.</td>\n",
       "      <td>KOR</td>\n",
       "      <td>1500m</td>\n",
       "      <td>W</td>\n",
       "      <td>Gold</td>\n",
       "    </tr>\n",
       "    <tr>\n",
       "      <th>2198</th>\n",
       "      <td>2006</td>\n",
       "      <td>Turin</td>\n",
       "      <td>Skating</td>\n",
       "      <td>Short Track S.</td>\n",
       "      <td>KOR</td>\n",
       "      <td>3000m relay</td>\n",
       "      <td>W</td>\n",
       "      <td>Gold</td>\n",
       "    </tr>\n",
       "    <tr>\n",
       "      <th>2199</th>\n",
       "      <td>2006</td>\n",
       "      <td>Turin</td>\n",
       "      <td>Skating</td>\n",
       "      <td>Short Track S.</td>\n",
       "      <td>KOR</td>\n",
       "      <td>5000m relay</td>\n",
       "      <td>M</td>\n",
       "      <td>Gold</td>\n",
       "    </tr>\n",
       "    <tr>\n",
       "      <th>2235</th>\n",
       "      <td>2006</td>\n",
       "      <td>Turin</td>\n",
       "      <td>Biathlon</td>\n",
       "      <td>Biathlon</td>\n",
       "      <td>RUS</td>\n",
       "      <td>15km</td>\n",
       "      <td>W</td>\n",
       "      <td>Gold</td>\n",
       "    </tr>\n",
       "    <tr>\n",
       "      <th>2236</th>\n",
       "      <td>2006</td>\n",
       "      <td>Turin</td>\n",
       "      <td>Biathlon</td>\n",
       "      <td>Biathlon</td>\n",
       "      <td>RUS</td>\n",
       "      <td>4x6km relay</td>\n",
       "      <td>W</td>\n",
       "      <td>Gold</td>\n",
       "    </tr>\n",
       "    <tr>\n",
       "      <th>2250</th>\n",
       "      <td>2006</td>\n",
       "      <td>Turin</td>\n",
       "      <td>Skiing</td>\n",
       "      <td>Cross Country S</td>\n",
       "      <td>RUS</td>\n",
       "      <td>Combined 15 + 15km mass start</td>\n",
       "      <td>M</td>\n",
       "      <td>Gold</td>\n",
       "    </tr>\n",
       "    <tr>\n",
       "      <th>2265</th>\n",
       "      <td>2006</td>\n",
       "      <td>Turin</td>\n",
       "      <td>Skiing</td>\n",
       "      <td>Snowboard</td>\n",
       "      <td>SUI</td>\n",
       "      <td>Giant parallel slalom</td>\n",
       "      <td>M</td>\n",
       "      <td>Gold</td>\n",
       "    </tr>\n",
       "    <tr>\n",
       "      <th>2267</th>\n",
       "      <td>2006</td>\n",
       "      <td>Turin</td>\n",
       "      <td>Skiing</td>\n",
       "      <td>Snowboard</td>\n",
       "      <td>SUI</td>\n",
       "      <td>Giant parallel slalom</td>\n",
       "      <td>W</td>\n",
       "      <td>Gold</td>\n",
       "    </tr>\n",
       "    <tr>\n",
       "      <th>2268</th>\n",
       "      <td>2006</td>\n",
       "      <td>Turin</td>\n",
       "      <td>Skiing</td>\n",
       "      <td>Snowboard</td>\n",
       "      <td>SUI</td>\n",
       "      <td>Snowboard Cross</td>\n",
       "      <td>W</td>\n",
       "      <td>Gold</td>\n",
       "    </tr>\n",
       "    <tr>\n",
       "      <th>2270</th>\n",
       "      <td>2006</td>\n",
       "      <td>Turin</td>\n",
       "      <td>Biathlon</td>\n",
       "      <td>Biathlon</td>\n",
       "      <td>SWE</td>\n",
       "      <td>12,5km mass start</td>\n",
       "      <td>W</td>\n",
       "      <td>Gold</td>\n",
       "    </tr>\n",
       "    <tr>\n",
       "      <th>2281</th>\n",
       "      <td>2006</td>\n",
       "      <td>Turin</td>\n",
       "      <td>Skiing</td>\n",
       "      <td>Cross Country S</td>\n",
       "      <td>SWE</td>\n",
       "      <td>Sprint 1,5km</td>\n",
       "      <td>M</td>\n",
       "      <td>Gold</td>\n",
       "    </tr>\n",
       "    <tr>\n",
       "      <th>2282</th>\n",
       "      <td>2006</td>\n",
       "      <td>Turin</td>\n",
       "      <td>Skiing</td>\n",
       "      <td>Cross Country S</td>\n",
       "      <td>SWE</td>\n",
       "      <td>Team sprint</td>\n",
       "      <td>M</td>\n",
       "      <td>Gold</td>\n",
       "    </tr>\n",
       "    <tr>\n",
       "      <th>2283</th>\n",
       "      <td>2006</td>\n",
       "      <td>Turin</td>\n",
       "      <td>Skiing</td>\n",
       "      <td>Cross Country S</td>\n",
       "      <td>SWE</td>\n",
       "      <td>Team sprint</td>\n",
       "      <td>W</td>\n",
       "      <td>Gold</td>\n",
       "    </tr>\n",
       "    <tr>\n",
       "      <th>2301</th>\n",
       "      <td>2006</td>\n",
       "      <td>Turin</td>\n",
       "      <td>Skiing</td>\n",
       "      <td>Alpine Skiing</td>\n",
       "      <td>USA</td>\n",
       "      <td>Alpine combined</td>\n",
       "      <td>M</td>\n",
       "      <td>Gold</td>\n",
       "    </tr>\n",
       "    <tr>\n",
       "      <th>2305</th>\n",
       "      <td>2006</td>\n",
       "      <td>Turin</td>\n",
       "      <td>Skiing</td>\n",
       "      <td>Snowboard</td>\n",
       "      <td>USA</td>\n",
       "      <td>Half-pipe</td>\n",
       "      <td>M</td>\n",
       "      <td>Gold</td>\n",
       "    </tr>\n",
       "    <tr>\n",
       "      <th>2309</th>\n",
       "      <td>2006</td>\n",
       "      <td>Turin</td>\n",
       "      <td>Skiing</td>\n",
       "      <td>Snowboard</td>\n",
       "      <td>USA</td>\n",
       "      <td>Snowboard Cross</td>\n",
       "      <td>M</td>\n",
       "      <td>Gold</td>\n",
       "    </tr>\n",
       "  </tbody>\n",
       "</table>\n",
       "<p>296 rows × 8 columns</p>\n",
       "</div>"
      ],
      "text/plain": [
       "      Year        City       Sport       Discipline  NOC  \\\n",
       "1     1924    Chamonix     Skating   Figure skating  AUT   \n",
       "2     1924    Chamonix     Skating   Figure skating  AUT   \n",
       "4     1924    Chamonix  Ice Hockey       Ice Hockey  CAN   \n",
       "7     1924    Chamonix     Skating    Speed skating  FIN   \n",
       "9     1924    Chamonix     Skating    Speed skating  FIN   \n",
       "10    1924    Chamonix     Skating    Speed skating  FIN   \n",
       "14    1924    Chamonix     Skating    Speed skating  FIN   \n",
       "20    1924    Chamonix     Curling          Curling  GBR   \n",
       "30    1924    Chamonix      Skiing  Cross Country S  NOR   \n",
       "33    1924    Chamonix      Skiing  Cross Country S  NOR   \n",
       "36    1924    Chamonix      Skiing  Nordic Combined  NOR   \n",
       "38    1924    Chamonix      Skiing      Ski Jumping  NOR   \n",
       "40    1924    Chamonix    Biathlon         Biathlon  SUI   \n",
       "41    1924    Chamonix   Bobsleigh        Bobsleigh  SUI   \n",
       "44    1924    Chamonix     Skating   Figure skating  SWE   \n",
       "47    1924    Chamonix     Skating    Speed skating  USA   \n",
       "54    1928  St. Moritz  Ice Hockey       Ice Hockey  CAN   \n",
       "55    1928  St. Moritz     Skating    Speed skating  FIN   \n",
       "58    1928  St. Moritz     Skating    Speed skating  FIN   \n",
       "59    1928  St. Moritz     Skating   Figure skating  FRA   \n",
       "62    1928  St. Moritz     Skating   Figure skating  NOR   \n",
       "66    1928  St. Moritz     Skating    Speed skating  NOR   \n",
       "68    1928  St. Moritz     Skating    Speed skating  NOR   \n",
       "70    1928  St. Moritz      Skiing  Cross Country S  NOR   \n",
       "73    1928  St. Moritz      Skiing  Nordic Combined  NOR   \n",
       "75    1928  St. Moritz      Skiing      Ski Jumping  NOR   \n",
       "79    1928  St. Moritz     Skating   Figure skating  SWE   \n",
       "81    1928  St. Moritz      Skiing  Cross Country S  SWE   \n",
       "84    1928  St. Moritz   Bobsleigh        Bobsleigh  USA   \n",
       "86    1928  St. Moritz   Bobsleigh         Skeleton  USA   \n",
       "...    ...         ...         ...              ...  ...   \n",
       "2078  2006       Turin      Skiing  Nordic Combined  AUT   \n",
       "2087  2006       Turin   Bobsleigh         Skeleton  CAN   \n",
       "2106  2006       Turin      Skiing  Cross Country S  CAN   \n",
       "2122  2006       Turin      Skiing    Alpine Skiing  CRO   \n",
       "2126  2006       Turin      Skiing  Cross Country S  CZE   \n",
       "2130  2006       Turin      Skiing  Cross Country S  EST   \n",
       "2140  2006       Turin    Biathlon         Biathlon  FRA   \n",
       "2143  2006       Turin    Biathlon         Biathlon  FRA   \n",
       "2151  2006       Turin    Biathlon         Biathlon  GER   \n",
       "2157  2006       Turin    Biathlon         Biathlon  GER   \n",
       "2170  2006       Turin     Skating    Speed skating  GER   \n",
       "2175  2006       Turin      Skiing  Nordic Combined  GER   \n",
       "2185  2006       Turin     Skating    Speed skating  ITA   \n",
       "2194  2006       Turin     Skating   Short Track S.  KOR   \n",
       "2196  2006       Turin     Skating   Short Track S.  KOR   \n",
       "2198  2006       Turin     Skating   Short Track S.  KOR   \n",
       "2199  2006       Turin     Skating   Short Track S.  KOR   \n",
       "2235  2006       Turin    Biathlon         Biathlon  RUS   \n",
       "2236  2006       Turin    Biathlon         Biathlon  RUS   \n",
       "2250  2006       Turin      Skiing  Cross Country S  RUS   \n",
       "2265  2006       Turin      Skiing        Snowboard  SUI   \n",
       "2267  2006       Turin      Skiing        Snowboard  SUI   \n",
       "2268  2006       Turin      Skiing        Snowboard  SUI   \n",
       "2270  2006       Turin    Biathlon         Biathlon  SWE   \n",
       "2281  2006       Turin      Skiing  Cross Country S  SWE   \n",
       "2282  2006       Turin      Skiing  Cross Country S  SWE   \n",
       "2283  2006       Turin      Skiing  Cross Country S  SWE   \n",
       "2301  2006       Turin      Skiing    Alpine Skiing  USA   \n",
       "2305  2006       Turin      Skiing        Snowboard  USA   \n",
       "2309  2006       Turin      Skiing        Snowboard  USA   \n",
       "\n",
       "                                Event Event gender Medal  \n",
       "1                          individual            W  Gold  \n",
       "2                               pairs            X  Gold  \n",
       "4                          ice hockey            M  Gold  \n",
       "7                              10000m            M  Gold  \n",
       "9                               1500m            M  Gold  \n",
       "10                              5000m            M  Gold  \n",
       "14                combined (4 events)            M  Gold  \n",
       "20                            curling            M  Gold  \n",
       "30                               18km            M  Gold  \n",
       "33                               50km            M  Gold  \n",
       "36                         individual            M  Gold  \n",
       "38               K90 individual (70m)            M  Gold  \n",
       "40                    military patrol            M  Gold  \n",
       "41                           four-man            M  Gold  \n",
       "44                         individual            M  Gold  \n",
       "47                               500m            M  Gold  \n",
       "54                         ice hockey            M  Gold  \n",
       "55                              1500m            M  Gold  \n",
       "58                               500m            M  Gold  \n",
       "59                              pairs            X  Gold  \n",
       "62                         individual            W  Gold  \n",
       "66                              5000m            M  Gold  \n",
       "68                               500m            M  Gold  \n",
       "70                               18km            M  Gold  \n",
       "73                         individual            M  Gold  \n",
       "75               K90 individual (70m)            M  Gold  \n",
       "79                         individual            M  Gold  \n",
       "81                               50km            M  Gold  \n",
       "84                           five-man            M  Gold  \n",
       "86                         individual            M  Gold  \n",
       "...                               ...          ...   ...  \n",
       "2078                Individual sprint            M  Gold  \n",
       "2087                       individual            M  Gold  \n",
       "2106                     sprint 1.5km            W  Gold  \n",
       "2122                  Alpine combined            W  Gold  \n",
       "2126                             30km            W  Gold  \n",
       "2130  Combined 7.5 + 7.5km mass start            W  Gold  \n",
       "2140                   12.5km pursuit            M  Gold  \n",
       "2143                            7.5km            W  Gold  \n",
       "2151                     10km pursuit            W  Gold  \n",
       "2157                  15km mass start            M  Gold  \n",
       "2170                     Team pursuit            W  Gold  \n",
       "2175                       Individual            M  Gold  \n",
       "2185                     Team pursuit            M  Gold  \n",
       "2194                            1500m            M  Gold  \n",
       "2196                            1500m            W  Gold  \n",
       "2198                      3000m relay            W  Gold  \n",
       "2199                      5000m relay            M  Gold  \n",
       "2235                             15km            W  Gold  \n",
       "2236                      4x6km relay            W  Gold  \n",
       "2250    Combined 15 + 15km mass start            M  Gold  \n",
       "2265            Giant parallel slalom            M  Gold  \n",
       "2267            Giant parallel slalom            W  Gold  \n",
       "2268                  Snowboard Cross            W  Gold  \n",
       "2270                12,5km mass start            W  Gold  \n",
       "2281                     Sprint 1,5km            M  Gold  \n",
       "2282                      Team sprint            M  Gold  \n",
       "2283                      Team sprint            W  Gold  \n",
       "2301                  Alpine combined            M  Gold  \n",
       "2305                        Half-pipe            M  Gold  \n",
       "2309                  Snowboard Cross            M  Gold  \n",
       "\n",
       "[296 rows x 8 columns]"
      ]
     },
     "execution_count": 18,
     "metadata": {},
     "output_type": "execute_result"
    }
   ],
   "source": [
    "by_event.head()"
   ]
  },
  {
   "cell_type": "markdown",
   "metadata": {},
   "source": [
    "We can easily tally the number of gold medals per event using the pandas DataFrame `count()` function."
   ]
  },
  {
   "cell_type": "code",
   "execution_count": 19,
   "metadata": {
    "collapsed": true
   },
   "outputs": [],
   "source": [
    "golds_by_event = by_event.Medal.count()"
   ]
  },
  {
   "cell_type": "markdown",
   "metadata": {},
   "source": [
    "\n",
    "Finally, we sort the results. Here are the 10 events with the most gold medals awarded."
   ]
  },
  {
   "cell_type": "code",
   "execution_count": 21,
   "metadata": {
    "collapsed": false
   },
   "outputs": [
    {
     "data": {
      "text/plain": [
       "Discipline      Event       \n",
       "Figure skating  individual      40\n",
       "Speed skating   1500m           35\n",
       "                500m            34\n",
       "Alpine Skiing   downhill        32\n",
       "                slalom          32\n",
       "                giant slalom    30\n",
       "Speed skating   5000m           26\n",
       "Luge            singles         24\n",
       "Ice Hockey      ice hockey      23\n",
       "Speed skating   1000m           22\n",
       "Name: Medal, dtype: int64"
      ]
     },
     "execution_count": 21,
     "metadata": {},
     "output_type": "execute_result"
    }
   ],
   "source": [
    "golds_by_event.sort_values(ascending=False)\n",
    "golds_by_event.head(10)"
   ]
  },
  {
   "cell_type": "markdown",
   "metadata": {},
   "source": [
    "Answer: Individual figure skating has awarded the most gold medals to olympians with 40."
   ]
  },
  {
   "cell_type": "markdown",
   "metadata": {},
   "source": [
    "## Question 2: Which country has won the most gold, silver, and bronze medals?\n",
    "For this question, we need to group and count medals awarded by country code.  Because we need sub-totals by medal color, we must group the data by both the `NOC` and `Medal` columns.  We calculate the medal counts for each group using the resulting DataFrame's `size()` function, which gives us the number of rows in each group."
   ]
  },
  {
   "cell_type": "code",
   "execution_count": 22,
   "metadata": {
    "collapsed": true
   },
   "outputs": [],
   "source": [
    "medals_by_country = medals_df.groupby(['NOC','Medal']).size()"
   ]
  },
  {
   "cell_type": "markdown",
   "metadata": {},
   "source": [
    "The result is a pandas Series object containing the medal counts by country."
   ]
  },
  {
   "cell_type": "code",
   "execution_count": 23,
   "metadata": {
    "collapsed": false
   },
   "outputs": [
    {
     "data": {
      "text/plain": [
       "NOC  Medal \n",
       "AUS  Bronze     3\n",
       "     Gold       3\n",
       "AUT  Bronze    70\n",
       "     Gold      51\n",
       "     Silver    64\n",
       "BEL  Bronze     3\n",
       "     Gold       1\n",
       "     Silver     1\n",
       "BLR  Bronze     3\n",
       "     Silver     3\n",
       "dtype: int64"
      ]
     },
     "execution_count": 23,
     "metadata": {},
     "output_type": "execute_result"
    }
   ],
   "source": [
    "medals_by_country.head(10)"
   ]
  },
  {
   "cell_type": "markdown",
   "metadata": {},
   "source": [
    "We want to convert this Series to a DataFrame containing a column for each medal color.  Fortunately, this is easy to do using the Series' [`unstack()`](http://pandas.pydata.org/pandas-docs/stable/generated/pandas.Series.unstack.html) function, which pivots the data for us by creating a column for each medal color."
   ]
  },
  {
   "cell_type": "code",
   "execution_count": 24,
   "metadata": {
    "collapsed": false
   },
   "outputs": [
    {
     "data": {
      "text/html": [
       "<div>\n",
       "<table border=\"1\" class=\"dataframe\">\n",
       "  <thead>\n",
       "    <tr style=\"text-align: right;\">\n",
       "      <th>Medal</th>\n",
       "      <th>Bronze</th>\n",
       "      <th>Gold</th>\n",
       "      <th>Silver</th>\n",
       "    </tr>\n",
       "    <tr>\n",
       "      <th>NOC</th>\n",
       "      <th></th>\n",
       "      <th></th>\n",
       "      <th></th>\n",
       "    </tr>\n",
       "  </thead>\n",
       "  <tbody>\n",
       "    <tr>\n",
       "      <th>AUS</th>\n",
       "      <td>3</td>\n",
       "      <td>3</td>\n",
       "      <td>NaN</td>\n",
       "    </tr>\n",
       "    <tr>\n",
       "      <th>AUT</th>\n",
       "      <td>70</td>\n",
       "      <td>51</td>\n",
       "      <td>64</td>\n",
       "    </tr>\n",
       "    <tr>\n",
       "      <th>BEL</th>\n",
       "      <td>3</td>\n",
       "      <td>1</td>\n",
       "      <td>1</td>\n",
       "    </tr>\n",
       "    <tr>\n",
       "      <th>BLR</th>\n",
       "      <td>3</td>\n",
       "      <td>NaN</td>\n",
       "      <td>3</td>\n",
       "    </tr>\n",
       "    <tr>\n",
       "      <th>BUL</th>\n",
       "      <td>3</td>\n",
       "      <td>1</td>\n",
       "      <td>2</td>\n",
       "    </tr>\n",
       "  </tbody>\n",
       "</table>\n",
       "</div>"
      ],
      "text/plain": [
       "Medal  Bronze  Gold  Silver\n",
       "NOC                        \n",
       "AUS         3     3     NaN\n",
       "AUT        70    51      64\n",
       "BEL         3     1       1\n",
       "BLR         3   NaN       3\n",
       "BUL         3     1       2"
      ]
     },
     "execution_count": 24,
     "metadata": {},
     "output_type": "execute_result"
    }
   ],
   "source": [
    "medals_by_country_df = medals_by_country.unstack()\n",
    "medals_by_country_df.head()"
   ]
  },
  {
   "cell_type": "markdown",
   "metadata": {},
   "source": [
    "Many countries do not have medals of every color, so we replace any missing data with a zero value."
   ]
  },
  {
   "cell_type": "code",
   "execution_count": 25,
   "metadata": {
    "collapsed": true
   },
   "outputs": [],
   "source": [
    "medals_by_country_df.fillna(0, inplace=True)"
   ]
  },
  {
   "cell_type": "markdown",
   "metadata": {},
   "source": [
    "Now we can answer our question using yet another DataFrame function, [`idxmax()`](http://pandas.pydata.org/pandas-docs/dev/generated/pandas.DataFrame.idxmax.html), which gives us the index (in this case, the country code) corresponding to the maximum count for each medal color (column in our DataFrame)."
   ]
  },
  {
   "cell_type": "code",
   "execution_count": 26,
   "metadata": {
    "collapsed": false
   },
   "outputs": [
    {
     "data": {
      "text/plain": [
       "Medal\n",
       "Bronze    NOR\n",
       "Gold      NOR\n",
       "Silver    NOR\n",
       "dtype: object"
      ]
     },
     "execution_count": 26,
     "metadata": {},
     "output_type": "execute_result"
    }
   ],
   "source": [
    "medals_by_country_df.idxmax()"
   ]
  },
  {
   "cell_type": "markdown",
   "metadata": {},
   "source": [
    "**Norway (NOR)** appears to be the winner."
   ]
  },
  {
   "cell_type": "markdown",
   "metadata": {},
   "source": [
    "### Plot\n",
    "We can use the popular [`matplotlib`](http://matplotlib.org/) package to produce a plot of the results.\n",
    "\n",
    "<div class=\"alert alert-block alert-info\" style=\"margin-top: 20px\">**Note:** The IBM Data Scientist Workbench pre-installs many third-party Python libraries and packages.  To see a list of these packages, run `!pip freeze` in a code cell.</div>\n",
    "\n",
    "First, tell the notebook server to render charts inline:"
   ]
  },
  {
   "cell_type": "code",
   "execution_count": 27,
   "metadata": {
    "collapsed": true
   },
   "outputs": [],
   "source": [
    "%matplotlib inline\n"
   ]
  },
  {
   "cell_type": "markdown",
   "metadata": {},
   "source": [
    "We sort the results by highest gold medal count."
   ]
  },
  {
   "cell_type": "code",
   "execution_count": 29,
   "metadata": {
    "collapsed": false
   },
   "outputs": [],
   "source": [
    "medals_by_country_df.sort_values('Gold', ascending=False, inplace=True)"
   ]
  },
  {
   "cell_type": "markdown",
   "metadata": {},
   "source": [
    "Now we can use the DataFrame `plot()` function to produce our plot.  We plot individual medal counts for the top 15 countries."
   ]
  },
  {
   "cell_type": "code",
   "execution_count": 30,
   "metadata": {
    "collapsed": false
   },
   "outputs": [
    {
     "data": {
      "text/plain": [
       "<matplotlib.axes._subplots.AxesSubplot at 0x1128cf310>"
      ]
     },
     "execution_count": 30,
     "metadata": {},
     "output_type": "execute_result"
    },
    {
     "data": {
      "image/png": "[encoded data removed]",
      "text/plain": [
       "<matplotlib.figure.Figure at 0x1117f6ed0>"
      ]
     },
     "metadata": {},
     "output_type": "display_data"
    }
   ],
   "source": [
    "medals_by_country_df[['Gold','Silver','Bronze']][:15]\\\n",
    ".plot(kind='bar', figsize=(12,10))"
   ]
  },
  {
   "cell_type": "markdown",
   "metadata": {},
   "source": [
    "The plot confirms that Norway has been on every step of the winter olympic podium more than any other country.\n",
    "\n",
    "Let's take a look at another plot: the olympic medals won by Norway over time.  To do this, we must filter our original medal data (containing all medal colors) to just those won by Norway, and group by Year.  We then count the number of medals for each year.  Amazingly, we can do all this in a single line of code."
   ]
  },
  {
   "cell_type": "code",
   "execution_count": 31,
   "metadata": {
    "collapsed": true
   },
   "outputs": [],
   "source": [
    "nor_medals_year = medals_df[medals_df.NOC == 'NOR'].groupby('Year').size()"
   ]
  },
  {
   "cell_type": "code",
   "execution_count": 32,
   "metadata": {
    "collapsed": false
   },
   "outputs": [
    {
     "data": {
      "text/plain": [
       "Year\n",
       "1924    17\n",
       "1928    15\n",
       "1932    10\n",
       "1936    15\n",
       "1948    10\n",
       "1952    16\n",
       "1956     4\n",
       "1960     6\n",
       "1964    15\n",
       "1968    14\n",
       "1972    12\n",
       "1976     7\n",
       "1980    10\n",
       "1984     9\n",
       "1988     5\n",
       "1992    20\n",
       "1994    26\n",
       "1998    25\n",
       "2002    25\n",
       "2006    19\n",
       "dtype: int64"
      ]
     },
     "execution_count": 32,
     "metadata": {},
     "output_type": "execute_result"
    }
   ],
   "source": [
    "nor_medals_year"
   ]
  },
  {
   "cell_type": "markdown",
   "metadata": {},
   "source": [
    "We can plot the resulting pandas Series using it's built-in `plot()` function, which is just a convenience function that wraps `matplotlib`."
   ]
  },
  {
   "cell_type": "code",
   "execution_count": 33,
   "metadata": {
    "collapsed": false
   },
   "outputs": [
    {
     "data": {
      "text/plain": [
       "<matplotlib.axes._subplots.AxesSubplot at 0x114d9d110>"
      ]
     },
     "execution_count": 33,
     "metadata": {},
     "output_type": "execute_result"
    },
    {
     "data": {
      "image/png": "[encoded data removed]",
      "text/plain": [
       "<matplotlib.figure.Figure at 0x114dc4650>"
      ]
     },
     "metadata": {},
     "output_type": "display_data"
    }
   ],
   "source": [
    "nor_medals_year.plot(kind='bar', figsize=(12,6))"
   ]
  },
  {
   "cell_type": "markdown",
   "metadata": {},
   "source": [
    "## Third-Party Visualization Libraries\n",
    "It is relatively easy to create plots quickly using `pandas` and `matplotlib`.  If you want to take your plots to the next level in terms of enhanced presentation, it is possible to install third-party libraries to help you.\n",
    "\n",
    "One such library is [prettyplotlib](http://olgabot.github.io/prettyplotlib/), which enhances `matplotlib` plots with better default colors, etc.  This can be extremely valuable if your notebook is to be used for presentations.\n",
    "\n",
    "<div class=\"alert alert-block alert-info\" style=\"margin-top: 20px\">**Note:** You have the ability to install Python packages in your IBM Data Scientist Workbench environment.  Just use the `pip` package installer.</div>\n",
    "\n",
    "Here we use the shorthand [IPython cell magic](http://nbviewer.ipython.org/github/ipython/ipython/blob/1.x/examples/notebooks/Cell%20Magics.ipynb) (!) to invoke `pip` to install `prettyplotlib`."
   ]
  },
  {
   "cell_type": "code",
   "execution_count": 35,
   "metadata": {
    "collapsed": false
   },
   "outputs": [],
   "source": [
    "# Install third party color palette \n",
    "# !pip install prettyplotlib"
   ]
  },
  {
   "cell_type": "markdown",
   "metadata": {},
   "source": [
    "Now we create a color palette..."
   ]
  },
  {
   "cell_type": "code",
   "execution_count": 36,
   "metadata": {
    "collapsed": true
   },
   "outputs": [],
   "source": [
    "# Use color palette \"Set3\" from http://bl.ocks.org/mbostock/5577023\n",
    "import brewer2mpl\n",
    "set3 = brewer2mpl.get_map('Set3', 'qualitative', 10).mpl_colors"
   ]
  },
  {
   "cell_type": "markdown",
   "metadata": {},
   "source": [
    "\n",
    "...and use it to generate a pretty pie chart showing the percent of all medals awarded to the top 10 countries."
   ]
  },
  {
   "cell_type": "code",
   "execution_count": 38,
   "metadata": {
    "collapsed": false
   },
   "outputs": [
    {
     "data": {
      "image/png": "[encoded data removed]",
      "text/plain": [
       "<matplotlib.figure.Figure at 0x114da7890>"
      ]
     },
     "metadata": {},
     "output_type": "display_data"
    }
   ],
   "source": [
    "# Plot the top 10 countries based on podium appearances.\n",
    "import pylab as plt\n",
    "# Calculate the total medals for each country\n",
    "t = medals_by_country_df.sum(axis=1)\n",
    "# Limit to top 10 medal-winning countries\n",
    "t.sort_values(ascending=False)\n",
    "awards = t[:10]\n",
    "countries = awards.index.values\n",
    "total = float(t.sum())\n",
    "# Create a pie chart\n",
    "pct = lambda x: '{p:1.1f}%'.format(p=(x*sum(awards)/100)/total*100)\n",
    "plt.pie(awards, labels=countries, shadow=True, \n",
    "        autopct=pct, colors=set3, startangle=90)\n",
    "# Set aspect ratio to be equal so that pie is drawn as a circle.\n",
    "plt.axis('equal')\n",
    "plt.show()"
   ]
  },
  {
   "cell_type": "markdown",
   "metadata": {},
   "source": [
    "## Online Tutorials\n",
    "If you need further instruction on how to create visualizations in IPython notebook, there is content available online.  Here is an example.  The video below represents a resource for visual programming using `matplotlib`.\n",
    "\n",
    "Note: The code cell below shows one way you can embed a video in your notebook. "
   ]
  },
  {
   "cell_type": "code",
   "execution_count": 39,
   "metadata": {
    "collapsed": false
   },
   "outputs": [
    {
     "data": {
      "image/jpeg": "[encoded data removed]",
      "text/html": [
       "\n",
       "        <iframe\n",
       "            width=\"400\"\n",
       "            height=\"300\"\n",
       "            src=\"https://www.youtube.com/embed/wAwQ-noyB98\"\n",
       "            frameborder=\"0\"\n",
       "            allowfullscreen\n",
       "        ></iframe>\n",
       "        "
      ],
      "text/plain": [
       "<IPython.lib.display.YouTubeVideo at 0x115993310>"
      ]
     },
     "execution_count": 39,
     "metadata": {},
     "output_type": "execute_result"
    }
   ],
   "source": [
    "from IPython.display import YouTubeVideo\n",
    "# Matplotlib Python Tutorial Part 1: Basics and your first Graph!\n",
    "# Tutorial series by Sentdex - http://sentdex.com/about-us/\n",
    "YouTubeVideo('wAwQ-noyB98')"
   ]
  },
  {
   "cell_type": "markdown",
   "metadata": {},
   "source": [
    "## Next: Organize\n",
    "Our next tutorial topic will focus on how IBM Data Scientist Workbench can help you organize your work. Visit the [Welcome](/pages/welcome) page to download **Tutorial #3 - Organize**."
   ]
  },
  {
   "cell_type": "code",
   "execution_count": null,
   "metadata": {
    "collapsed": true
   },
   "outputs": [],
   "source": []
  }
 ],
 "metadata": {
  "kernelspec": {
   "display_name": "Python 2",
   "language": "python",
   "name": "python2"
  },
  "language_info": {
   "codemirror_mode": {
    "name": "ipython",
    "version": 2
   },
   "file_extension": ".py",
   "mimetype": "text/x-python",
   "name": "python",
   "nbconvert_exporter": "python",
   "pygments_lexer": "ipython2",
   "version": "2.7.11"
  }
 },
 "nbformat": 4,
 "nbformat_minor": 0
}
